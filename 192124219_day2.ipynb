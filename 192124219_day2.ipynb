{
  "nbformat": 4,
  "nbformat_minor": 0,
  "metadata": {
    "colab": {
      "provenance": [],
      "authorship_tag": "ABX9TyPtXz7XyZjs1Id7Pz6DTZkQ",
      "include_colab_link": true
    },
    "kernelspec": {
      "name": "python3",
      "display_name": "Python 3"
    },
    "language_info": {
      "name": "python"
    }
  },
  "cells": [
    {
      "cell_type": "markdown",
      "metadata": {
        "id": "view-in-github",
        "colab_type": "text"
      },
      "source": [
        "<a href=\"https://colab.research.google.com/github/kamini8888/192124219-qp/blob/main/192124219_day2.ipynb\" target=\"_parent\"><img src=\"https://colab.research.google.com/assets/colab-badge.svg\" alt=\"Open In Colab\"/></a>"
      ]
    },
    {
      "cell_type": "markdown",
      "source": [
        "# **11.Create a dataframe of ten rows, four columns with random values. Convert some values to nan values. Write a Pandas program which will highlight the nan values.**"
      ],
      "metadata": {
        "id": "oX3bV0D0lwT_"
      }
    },
    {
      "cell_type": "markdown",
      "source": [
        "AIM: to Write a Pandas program which will highlight the nan values.   \n",
        "PROCEDURE:\n",
        "1. Import the necessary libraries, including `pandas` and `numpy`.\n",
        "2. Set the random seed to ensure reproducibility of random values.\n",
        "3. Create a Pandas DataFrame (`df`) with one column ('A') containing numbers from 1 to 10.\n",
        "4. Concatenate the DataFrame with another DataFrame containing random values from a standard normal distribution for columns 'B', 'C', 'D', and 'E', creating a larger DataFrame.\n",
        "5. Introduce missing values (NaN) into specific cells by using the `iloc` method. For example, set the value at row 0 and column 2, row 3 and column 3, row 4 and column 1, and row 9 and column 4 to NaN.\n",
        "6. Print the original DataFrame to display its contents.\n",
        "7. Define a custom styling function, `color_negative_red(val)`, which takes a value as input and returns a string specifying the font color as 'red' for negative values or 'black' for non-negative values.\n",
        "8. Use the `style.highlight_null(null_color='red')` method to apply custom styling to the DataFrame. This method highlights missing values (NaN) in red.\n",
        "9. Print the styled DataFrame, which displays the DataFrame with the specified custom styling. Missing values appear in red, and the font color of negative numbers is set to red as well.\n"
      ],
      "metadata": {
        "id": "eEXsJq8emR5h"
      }
    },
    {
      "cell_type": "code",
      "source": [
        "import pandas as pd\n",
        "import numpy as np\n",
        "np.random.seed(24)\n",
        "df = pd.DataFrame({'A': np.linspace(1, 10, 10)})\n",
        "df = pd.concat([df, pd.DataFrame(np.random.randn(10, 4), columns=list('BCDE'))],\n",
        "               axis=1)\n",
        "df.iloc[0, 2] = np.nan\n",
        "df.iloc[3, 3] = np.nan\n",
        "df.iloc[4, 1] = np.nan\n",
        "df.iloc[9, 4] = np.nan\n",
        "print(\"Original array:\")\n",
        "print(df)\n",
        "def color_negative_red(val):\n",
        "    color = 'red' if val < 0 else 'black'\n",
        "    return 'color: %s' % color\n",
        "print(\"\\nNegative numbers red and positive numbers black:\")\n",
        "df.style.highlight_null(null_color='red')\n"
      ],
      "metadata": {
        "colab": {
          "base_uri": "https://localhost:8080/",
          "height": 640
        },
        "id": "79WyprEKmbhU",
        "outputId": "1a87c209-2ee5-43d1-8312-ea4d9b677793"
      },
      "execution_count": 1,
      "outputs": [
        {
          "output_type": "stream",
          "name": "stdout",
          "text": [
            "Original array:\n",
            "      A         B         C         D         E\n",
            "0   1.0  1.329212       NaN -0.316280 -0.990810\n",
            "1   2.0 -1.070816 -1.438713  0.564417  0.295722\n",
            "2   3.0 -1.626404  0.219565  0.678805  1.889273\n",
            "3   4.0  0.961538  0.104011       NaN  0.850229\n",
            "4   5.0       NaN  1.057737  0.165562  0.515018\n",
            "5   6.0 -1.336936  0.562861  1.392855 -0.063328\n",
            "6   7.0  0.121668  1.207603 -0.002040  1.627796\n",
            "7   8.0  0.354493  1.037528 -0.385684  0.519818\n",
            "8   9.0  1.686583 -1.325963  1.428984 -2.089354\n",
            "9  10.0 -0.129820  0.631523 -0.586538       NaN\n",
            "\n",
            "Negative numbers red and positive numbers black:\n"
          ]
        },
        {
          "output_type": "stream",
          "name": "stderr",
          "text": [
            "<ipython-input-1-29d4b3fe49dc>:17: FutureWarning: `null_color` is deprecated: use `color` instead\n",
            "  df.style.highlight_null(null_color='red')\n"
          ]
        },
        {
          "output_type": "execute_result",
          "data": {
            "text/plain": [
              "<pandas.io.formats.style.Styler at 0x7dd592eabca0>"
            ],
            "text/html": [
              "<style type=\"text/css\">\n",
              "#T_42016_row0_col2, #T_42016_row3_col3, #T_42016_row4_col1, #T_42016_row9_col4 {\n",
              "  background-color: red;\n",
              "}\n",
              "</style>\n",
              "<table id=\"T_42016\" class=\"dataframe\">\n",
              "  <thead>\n",
              "    <tr>\n",
              "      <th class=\"blank level0\" >&nbsp;</th>\n",
              "      <th id=\"T_42016_level0_col0\" class=\"col_heading level0 col0\" >A</th>\n",
              "      <th id=\"T_42016_level0_col1\" class=\"col_heading level0 col1\" >B</th>\n",
              "      <th id=\"T_42016_level0_col2\" class=\"col_heading level0 col2\" >C</th>\n",
              "      <th id=\"T_42016_level0_col3\" class=\"col_heading level0 col3\" >D</th>\n",
              "      <th id=\"T_42016_level0_col4\" class=\"col_heading level0 col4\" >E</th>\n",
              "    </tr>\n",
              "  </thead>\n",
              "  <tbody>\n",
              "    <tr>\n",
              "      <th id=\"T_42016_level0_row0\" class=\"row_heading level0 row0\" >0</th>\n",
              "      <td id=\"T_42016_row0_col0\" class=\"data row0 col0\" >1.000000</td>\n",
              "      <td id=\"T_42016_row0_col1\" class=\"data row0 col1\" >1.329212</td>\n",
              "      <td id=\"T_42016_row0_col2\" class=\"data row0 col2\" >nan</td>\n",
              "      <td id=\"T_42016_row0_col3\" class=\"data row0 col3\" >-0.316280</td>\n",
              "      <td id=\"T_42016_row0_col4\" class=\"data row0 col4\" >-0.990810</td>\n",
              "    </tr>\n",
              "    <tr>\n",
              "      <th id=\"T_42016_level0_row1\" class=\"row_heading level0 row1\" >1</th>\n",
              "      <td id=\"T_42016_row1_col0\" class=\"data row1 col0\" >2.000000</td>\n",
              "      <td id=\"T_42016_row1_col1\" class=\"data row1 col1\" >-1.070816</td>\n",
              "      <td id=\"T_42016_row1_col2\" class=\"data row1 col2\" >-1.438713</td>\n",
              "      <td id=\"T_42016_row1_col3\" class=\"data row1 col3\" >0.564417</td>\n",
              "      <td id=\"T_42016_row1_col4\" class=\"data row1 col4\" >0.295722</td>\n",
              "    </tr>\n",
              "    <tr>\n",
              "      <th id=\"T_42016_level0_row2\" class=\"row_heading level0 row2\" >2</th>\n",
              "      <td id=\"T_42016_row2_col0\" class=\"data row2 col0\" >3.000000</td>\n",
              "      <td id=\"T_42016_row2_col1\" class=\"data row2 col1\" >-1.626404</td>\n",
              "      <td id=\"T_42016_row2_col2\" class=\"data row2 col2\" >0.219565</td>\n",
              "      <td id=\"T_42016_row2_col3\" class=\"data row2 col3\" >0.678805</td>\n",
              "      <td id=\"T_42016_row2_col4\" class=\"data row2 col4\" >1.889273</td>\n",
              "    </tr>\n",
              "    <tr>\n",
              "      <th id=\"T_42016_level0_row3\" class=\"row_heading level0 row3\" >3</th>\n",
              "      <td id=\"T_42016_row3_col0\" class=\"data row3 col0\" >4.000000</td>\n",
              "      <td id=\"T_42016_row3_col1\" class=\"data row3 col1\" >0.961538</td>\n",
              "      <td id=\"T_42016_row3_col2\" class=\"data row3 col2\" >0.104011</td>\n",
              "      <td id=\"T_42016_row3_col3\" class=\"data row3 col3\" >nan</td>\n",
              "      <td id=\"T_42016_row3_col4\" class=\"data row3 col4\" >0.850229</td>\n",
              "    </tr>\n",
              "    <tr>\n",
              "      <th id=\"T_42016_level0_row4\" class=\"row_heading level0 row4\" >4</th>\n",
              "      <td id=\"T_42016_row4_col0\" class=\"data row4 col0\" >5.000000</td>\n",
              "      <td id=\"T_42016_row4_col1\" class=\"data row4 col1\" >nan</td>\n",
              "      <td id=\"T_42016_row4_col2\" class=\"data row4 col2\" >1.057737</td>\n",
              "      <td id=\"T_42016_row4_col3\" class=\"data row4 col3\" >0.165562</td>\n",
              "      <td id=\"T_42016_row4_col4\" class=\"data row4 col4\" >0.515018</td>\n",
              "    </tr>\n",
              "    <tr>\n",
              "      <th id=\"T_42016_level0_row5\" class=\"row_heading level0 row5\" >5</th>\n",
              "      <td id=\"T_42016_row5_col0\" class=\"data row5 col0\" >6.000000</td>\n",
              "      <td id=\"T_42016_row5_col1\" class=\"data row5 col1\" >-1.336936</td>\n",
              "      <td id=\"T_42016_row5_col2\" class=\"data row5 col2\" >0.562861</td>\n",
              "      <td id=\"T_42016_row5_col3\" class=\"data row5 col3\" >1.392855</td>\n",
              "      <td id=\"T_42016_row5_col4\" class=\"data row5 col4\" >-0.063328</td>\n",
              "    </tr>\n",
              "    <tr>\n",
              "      <th id=\"T_42016_level0_row6\" class=\"row_heading level0 row6\" >6</th>\n",
              "      <td id=\"T_42016_row6_col0\" class=\"data row6 col0\" >7.000000</td>\n",
              "      <td id=\"T_42016_row6_col1\" class=\"data row6 col1\" >0.121668</td>\n",
              "      <td id=\"T_42016_row6_col2\" class=\"data row6 col2\" >1.207603</td>\n",
              "      <td id=\"T_42016_row6_col3\" class=\"data row6 col3\" >-0.002040</td>\n",
              "      <td id=\"T_42016_row6_col4\" class=\"data row6 col4\" >1.627796</td>\n",
              "    </tr>\n",
              "    <tr>\n",
              "      <th id=\"T_42016_level0_row7\" class=\"row_heading level0 row7\" >7</th>\n",
              "      <td id=\"T_42016_row7_col0\" class=\"data row7 col0\" >8.000000</td>\n",
              "      <td id=\"T_42016_row7_col1\" class=\"data row7 col1\" >0.354493</td>\n",
              "      <td id=\"T_42016_row7_col2\" class=\"data row7 col2\" >1.037528</td>\n",
              "      <td id=\"T_42016_row7_col3\" class=\"data row7 col3\" >-0.385684</td>\n",
              "      <td id=\"T_42016_row7_col4\" class=\"data row7 col4\" >0.519818</td>\n",
              "    </tr>\n",
              "    <tr>\n",
              "      <th id=\"T_42016_level0_row8\" class=\"row_heading level0 row8\" >8</th>\n",
              "      <td id=\"T_42016_row8_col0\" class=\"data row8 col0\" >9.000000</td>\n",
              "      <td id=\"T_42016_row8_col1\" class=\"data row8 col1\" >1.686583</td>\n",
              "      <td id=\"T_42016_row8_col2\" class=\"data row8 col2\" >-1.325963</td>\n",
              "      <td id=\"T_42016_row8_col3\" class=\"data row8 col3\" >1.428984</td>\n",
              "      <td id=\"T_42016_row8_col4\" class=\"data row8 col4\" >-2.089354</td>\n",
              "    </tr>\n",
              "    <tr>\n",
              "      <th id=\"T_42016_level0_row9\" class=\"row_heading level0 row9\" >9</th>\n",
              "      <td id=\"T_42016_row9_col0\" class=\"data row9 col0\" >10.000000</td>\n",
              "      <td id=\"T_42016_row9_col1\" class=\"data row9 col1\" >-0.129820</td>\n",
              "      <td id=\"T_42016_row9_col2\" class=\"data row9 col2\" >0.631523</td>\n",
              "      <td id=\"T_42016_row9_col3\" class=\"data row9 col3\" >-0.586538</td>\n",
              "      <td id=\"T_42016_row9_col4\" class=\"data row9 col4\" >nan</td>\n",
              "    </tr>\n",
              "  </tbody>\n",
              "</table>\n"
            ]
          },
          "metadata": {},
          "execution_count": 1
        }
      ]
    },
    {
      "cell_type": "markdown",
      "source": [
        "![Screenshot 2023-10-17 083828.png](data:image/png;base64,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)"
      ],
      "metadata": {
        "id": "dP90za_Wmzkz"
      }
    },
    {
      "cell_type": "markdown",
      "source": [
        "RESULT: Successfully implemented."
      ],
      "metadata": {
        "id": "wrVQn53Im4HZ"
      }
    },
    {
      "cell_type": "markdown",
      "source": [
        "# **12.Create a dataframe of ten rows, four columns with random values. Write a Pandas program to set dataframe background Color black and font color yellow.**"
      ],
      "metadata": {
        "id": "nab6n_bNm6G3"
      }
    },
    {
      "cell_type": "markdown",
      "source": [
        "AIM:  to write a Pandas program to set dataframe background Color black and font color yellow.                                                               \n",
        "PROCEDURE:\n",
        "1. Import the necessary libraries, including `pandas` and `numpy`.\n",
        "2. Set the random seed to ensure reproducibility of random values.\n",
        "3. Create a Pandas DataFrame (`df`) with one column ('A') containing numbers from 1 to 10.\n",
        "4. Concatenate the DataFrame with another DataFrame containing random values from a standard normal distribution for columns 'B', 'C', 'D', and 'E', creating a larger DataFrame.\n",
        "5. Introduce missing values (NaN) into specific cells by using the `iloc` method. For example, set the value at row 0 and column 2, row 3 and column 3, row 4 and column 1, and row 9 and column 4 to NaN.\n",
        "6. Print the original DataFrame to display its contents.\n",
        "7. Apply custom styling to the DataFrame using the `style.set_properties()` method. Set the background color to black and the font color to yellow. This styling is applied to the entire DataFrame, making the background black and the text yellow.\n",
        "8. Print the styled DataFrame, which displays the DataFrame with the specified custom styling.\n"
      ],
      "metadata": {
        "id": "P_QqaQyUnM9D"
      }
    },
    {
      "cell_type": "code",
      "source": [
        "import pandas as pd\n",
        "import numpy as np\n",
        "np.random.seed(24)\n",
        "df = pd.DataFrame({'A': np.linspace(1, 10, 10)})\n",
        "df = pd.concat([df, pd.DataFrame(np.random.randn(10, 4), columns=list('BCDE'))],\n",
        "               axis=1)\n",
        "df.iloc[0, 2] = np.nan\n",
        "df.iloc[3, 3] = np.nan\n",
        "df.iloc[4, 1] = np.nan\n",
        "df.iloc[9, 4] = np.nan\n",
        "print(\"Original array:\")\n",
        "print(df)\n",
        "print(\"\\nBackground:black - fontcolor:yelow\")\n",
        "df.style.set_properties(**{'background-color': 'black',\n",
        "                           'color': 'yellow'})\n"
      ],
      "metadata": {
        "colab": {
          "base_uri": "https://localhost:8080/",
          "height": 606
        },
        "id": "CKlcuFkEnVQo",
        "outputId": "081ca5d5-b369-496b-f11d-2affa485e06f"
      },
      "execution_count": 3,
      "outputs": [
        {
          "output_type": "stream",
          "name": "stdout",
          "text": [
            "Original array:\n",
            "      A         B         C         D         E\n",
            "0   1.0  1.329212       NaN -0.316280 -0.990810\n",
            "1   2.0 -1.070816 -1.438713  0.564417  0.295722\n",
            "2   3.0 -1.626404  0.219565  0.678805  1.889273\n",
            "3   4.0  0.961538  0.104011       NaN  0.850229\n",
            "4   5.0       NaN  1.057737  0.165562  0.515018\n",
            "5   6.0 -1.336936  0.562861  1.392855 -0.063328\n",
            "6   7.0  0.121668  1.207603 -0.002040  1.627796\n",
            "7   8.0  0.354493  1.037528 -0.385684  0.519818\n",
            "8   9.0  1.686583 -1.325963  1.428984 -2.089354\n",
            "9  10.0 -0.129820  0.631523 -0.586538       NaN\n",
            "\n",
            "Background:black - fontcolor:yelow\n"
          ]
        },
        {
          "output_type": "execute_result",
          "data": {
            "text/plain": [
              "<pandas.io.formats.style.Styler at 0x7dd5a79f9150>"
            ],
            "text/html": [
              "<style type=\"text/css\">\n",
              "#T_ebbd6_row0_col0, #T_ebbd6_row0_col1, #T_ebbd6_row0_col2, #T_ebbd6_row0_col3, #T_ebbd6_row0_col4, #T_ebbd6_row1_col0, #T_ebbd6_row1_col1, #T_ebbd6_row1_col2, #T_ebbd6_row1_col3, #T_ebbd6_row1_col4, #T_ebbd6_row2_col0, #T_ebbd6_row2_col1, #T_ebbd6_row2_col2, #T_ebbd6_row2_col3, #T_ebbd6_row2_col4, #T_ebbd6_row3_col0, #T_ebbd6_row3_col1, #T_ebbd6_row3_col2, #T_ebbd6_row3_col3, #T_ebbd6_row3_col4, #T_ebbd6_row4_col0, #T_ebbd6_row4_col1, #T_ebbd6_row4_col2, #T_ebbd6_row4_col3, #T_ebbd6_row4_col4, #T_ebbd6_row5_col0, #T_ebbd6_row5_col1, #T_ebbd6_row5_col2, #T_ebbd6_row5_col3, #T_ebbd6_row5_col4, #T_ebbd6_row6_col0, #T_ebbd6_row6_col1, #T_ebbd6_row6_col2, #T_ebbd6_row6_col3, #T_ebbd6_row6_col4, #T_ebbd6_row7_col0, #T_ebbd6_row7_col1, #T_ebbd6_row7_col2, #T_ebbd6_row7_col3, #T_ebbd6_row7_col4, #T_ebbd6_row8_col0, #T_ebbd6_row8_col1, #T_ebbd6_row8_col2, #T_ebbd6_row8_col3, #T_ebbd6_row8_col4, #T_ebbd6_row9_col0, #T_ebbd6_row9_col1, #T_ebbd6_row9_col2, #T_ebbd6_row9_col3, #T_ebbd6_row9_col4 {\n",
              "  background-color: black;\n",
              "  color: yellow;\n",
              "}\n",
              "</style>\n",
              "<table id=\"T_ebbd6\" class=\"dataframe\">\n",
              "  <thead>\n",
              "    <tr>\n",
              "      <th class=\"blank level0\" >&nbsp;</th>\n",
              "      <th id=\"T_ebbd6_level0_col0\" class=\"col_heading level0 col0\" >A</th>\n",
              "      <th id=\"T_ebbd6_level0_col1\" class=\"col_heading level0 col1\" >B</th>\n",
              "      <th id=\"T_ebbd6_level0_col2\" class=\"col_heading level0 col2\" >C</th>\n",
              "      <th id=\"T_ebbd6_level0_col3\" class=\"col_heading level0 col3\" >D</th>\n",
              "      <th id=\"T_ebbd6_level0_col4\" class=\"col_heading level0 col4\" >E</th>\n",
              "    </tr>\n",
              "  </thead>\n",
              "  <tbody>\n",
              "    <tr>\n",
              "      <th id=\"T_ebbd6_level0_row0\" class=\"row_heading level0 row0\" >0</th>\n",
              "      <td id=\"T_ebbd6_row0_col0\" class=\"data row0 col0\" >1.000000</td>\n",
              "      <td id=\"T_ebbd6_row0_col1\" class=\"data row0 col1\" >1.329212</td>\n",
              "      <td id=\"T_ebbd6_row0_col2\" class=\"data row0 col2\" >nan</td>\n",
              "      <td id=\"T_ebbd6_row0_col3\" class=\"data row0 col3\" >-0.316280</td>\n",
              "      <td id=\"T_ebbd6_row0_col4\" class=\"data row0 col4\" >-0.990810</td>\n",
              "    </tr>\n",
              "    <tr>\n",
              "      <th id=\"T_ebbd6_level0_row1\" class=\"row_heading level0 row1\" >1</th>\n",
              "      <td id=\"T_ebbd6_row1_col0\" class=\"data row1 col0\" >2.000000</td>\n",
              "      <td id=\"T_ebbd6_row1_col1\" class=\"data row1 col1\" >-1.070816</td>\n",
              "      <td id=\"T_ebbd6_row1_col2\" class=\"data row1 col2\" >-1.438713</td>\n",
              "      <td id=\"T_ebbd6_row1_col3\" class=\"data row1 col3\" >0.564417</td>\n",
              "      <td id=\"T_ebbd6_row1_col4\" class=\"data row1 col4\" >0.295722</td>\n",
              "    </tr>\n",
              "    <tr>\n",
              "      <th id=\"T_ebbd6_level0_row2\" class=\"row_heading level0 row2\" >2</th>\n",
              "      <td id=\"T_ebbd6_row2_col0\" class=\"data row2 col0\" >3.000000</td>\n",
              "      <td id=\"T_ebbd6_row2_col1\" class=\"data row2 col1\" >-1.626404</td>\n",
              "      <td id=\"T_ebbd6_row2_col2\" class=\"data row2 col2\" >0.219565</td>\n",
              "      <td id=\"T_ebbd6_row2_col3\" class=\"data row2 col3\" >0.678805</td>\n",
              "      <td id=\"T_ebbd6_row2_col4\" class=\"data row2 col4\" >1.889273</td>\n",
              "    </tr>\n",
              "    <tr>\n",
              "      <th id=\"T_ebbd6_level0_row3\" class=\"row_heading level0 row3\" >3</th>\n",
              "      <td id=\"T_ebbd6_row3_col0\" class=\"data row3 col0\" >4.000000</td>\n",
              "      <td id=\"T_ebbd6_row3_col1\" class=\"data row3 col1\" >0.961538</td>\n",
              "      <td id=\"T_ebbd6_row3_col2\" class=\"data row3 col2\" >0.104011</td>\n",
              "      <td id=\"T_ebbd6_row3_col3\" class=\"data row3 col3\" >nan</td>\n",
              "      <td id=\"T_ebbd6_row3_col4\" class=\"data row3 col4\" >0.850229</td>\n",
              "    </tr>\n",
              "    <tr>\n",
              "      <th id=\"T_ebbd6_level0_row4\" class=\"row_heading level0 row4\" >4</th>\n",
              "      <td id=\"T_ebbd6_row4_col0\" class=\"data row4 col0\" >5.000000</td>\n",
              "      <td id=\"T_ebbd6_row4_col1\" class=\"data row4 col1\" >nan</td>\n",
              "      <td id=\"T_ebbd6_row4_col2\" class=\"data row4 col2\" >1.057737</td>\n",
              "      <td id=\"T_ebbd6_row4_col3\" class=\"data row4 col3\" >0.165562</td>\n",
              "      <td id=\"T_ebbd6_row4_col4\" class=\"data row4 col4\" >0.515018</td>\n",
              "    </tr>\n",
              "    <tr>\n",
              "      <th id=\"T_ebbd6_level0_row5\" class=\"row_heading level0 row5\" >5</th>\n",
              "      <td id=\"T_ebbd6_row5_col0\" class=\"data row5 col0\" >6.000000</td>\n",
              "      <td id=\"T_ebbd6_row5_col1\" class=\"data row5 col1\" >-1.336936</td>\n",
              "      <td id=\"T_ebbd6_row5_col2\" class=\"data row5 col2\" >0.562861</td>\n",
              "      <td id=\"T_ebbd6_row5_col3\" class=\"data row5 col3\" >1.392855</td>\n",
              "      <td id=\"T_ebbd6_row5_col4\" class=\"data row5 col4\" >-0.063328</td>\n",
              "    </tr>\n",
              "    <tr>\n",
              "      <th id=\"T_ebbd6_level0_row6\" class=\"row_heading level0 row6\" >6</th>\n",
              "      <td id=\"T_ebbd6_row6_col0\" class=\"data row6 col0\" >7.000000</td>\n",
              "      <td id=\"T_ebbd6_row6_col1\" class=\"data row6 col1\" >0.121668</td>\n",
              "      <td id=\"T_ebbd6_row6_col2\" class=\"data row6 col2\" >1.207603</td>\n",
              "      <td id=\"T_ebbd6_row6_col3\" class=\"data row6 col3\" >-0.002040</td>\n",
              "      <td id=\"T_ebbd6_row6_col4\" class=\"data row6 col4\" >1.627796</td>\n",
              "    </tr>\n",
              "    <tr>\n",
              "      <th id=\"T_ebbd6_level0_row7\" class=\"row_heading level0 row7\" >7</th>\n",
              "      <td id=\"T_ebbd6_row7_col0\" class=\"data row7 col0\" >8.000000</td>\n",
              "      <td id=\"T_ebbd6_row7_col1\" class=\"data row7 col1\" >0.354493</td>\n",
              "      <td id=\"T_ebbd6_row7_col2\" class=\"data row7 col2\" >1.037528</td>\n",
              "      <td id=\"T_ebbd6_row7_col3\" class=\"data row7 col3\" >-0.385684</td>\n",
              "      <td id=\"T_ebbd6_row7_col4\" class=\"data row7 col4\" >0.519818</td>\n",
              "    </tr>\n",
              "    <tr>\n",
              "      <th id=\"T_ebbd6_level0_row8\" class=\"row_heading level0 row8\" >8</th>\n",
              "      <td id=\"T_ebbd6_row8_col0\" class=\"data row8 col0\" >9.000000</td>\n",
              "      <td id=\"T_ebbd6_row8_col1\" class=\"data row8 col1\" >1.686583</td>\n",
              "      <td id=\"T_ebbd6_row8_col2\" class=\"data row8 col2\" >-1.325963</td>\n",
              "      <td id=\"T_ebbd6_row8_col3\" class=\"data row8 col3\" >1.428984</td>\n",
              "      <td id=\"T_ebbd6_row8_col4\" class=\"data row8 col4\" >-2.089354</td>\n",
              "    </tr>\n",
              "    <tr>\n",
              "      <th id=\"T_ebbd6_level0_row9\" class=\"row_heading level0 row9\" >9</th>\n",
              "      <td id=\"T_ebbd6_row9_col0\" class=\"data row9 col0\" >10.000000</td>\n",
              "      <td id=\"T_ebbd6_row9_col1\" class=\"data row9 col1\" >-0.129820</td>\n",
              "      <td id=\"T_ebbd6_row9_col2\" class=\"data row9 col2\" >0.631523</td>\n",
              "      <td id=\"T_ebbd6_row9_col3\" class=\"data row9 col3\" >-0.586538</td>\n",
              "      <td id=\"T_ebbd6_row9_col4\" class=\"data row9 col4\" >nan</td>\n",
              "    </tr>\n",
              "  </tbody>\n",
              "</table>\n"
            ]
          },
          "metadata": {},
          "execution_count": 3
        }
      ]
    },
    {
      "cell_type": "markdown",
      "source": [
        "![image.png](data:image/png;base64,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)"
      ],
      "metadata": {
        "id": "HnnCXjxcn2rY"
      }
    },
    {
      "cell_type": "markdown",
      "source": [
        "RESULT: Successfully implemented."
      ],
      "metadata": {
        "id": "El75d0eIn9P6"
      }
    },
    {
      "cell_type": "markdown",
      "source": [
        "# **13.Write a Pandas program to detect missing values of a given DataFrame. Display True or False.**"
      ],
      "metadata": {
        "id": "NDLMOKPwoAK9"
      }
    },
    {
      "cell_type": "markdown",
      "source": [
        "AIM:  to detect missing values of a given DataFrame and display True or False.   \n",
        "PROCEDURE:\n",
        "1. Import the necessary libraries, including `pandas` and `numpy`.\n",
        "2. Set Pandas options to display all rows in the DataFrame (`pd.set_option('display.max_rows', None)`).\n",
        "3. Create a Pandas DataFrame (`df`) with several columns ('ord_no', 'purch_amt', 'ord_date', 'customer_id', 'salesman_id'), which contains both numerical and datetime data.\n",
        "4. Print the original DataFrame to display its contents.\n",
        "5. Use the `isna()` method on the DataFrame to create a new Boolean DataFrame that has the same shape as the original one. This Boolean DataFrame indicates where the missing values (NaN) are located.\n",
        "6. Print the Boolean DataFrame, which shows `True` for missing values and `False` for non-missing values."
      ],
      "metadata": {
        "id": "uVK9fbpSoM1J"
      }
    },
    {
      "cell_type": "code",
      "source": [
        "import pandas as pd\n",
        "import numpy as np\n",
        "pd.set_option('display.max_rows', None)\n",
        "#pd.set_option('display.max_columns', None)\n",
        "df = pd.DataFrame({\n",
        "'ord_no':[70001,np.nan,70002,70004,np.nan,70005,np.nan,70010,70003,70012,np.nan,70013],\n",
        "'purch_amt':[150.5,270.65,65.26,110.5,948.5,2400.6,5760,1983.43,2480.4,250.45, 75.29,3045.6],\n",
        "'ord_date': ['2012-10-05','2012-09-10',np.nan,'2012-08-17','2012-09-10','2012-07-27','2012-09-10','2012-10-10','2012-10-10','2012-06-27','2012-08-17','2012-04-25'],\n",
        "'customer_id':[3002,3001,3001,3003,3002,3001,3001,3004,3003,3002,3001,3001],\n",
        "'salesman_id':[5002,5003,5001,np.nan,5002,5001,5001,np.nan,5003,5002,5003,np.nan]})\n",
        "print(\"Original Orders DataFrame:\")\n",
        "print(df)\n",
        "print(\"\\nMissing values of the said dataframe:\")\n",
        "print(df.isna())\n"
      ],
      "metadata": {
        "colab": {
          "base_uri": "https://localhost:8080/"
        },
        "id": "TuMxFsQooYsL",
        "outputId": "31c4a0f3-d231-49af-a499-8e0f454243d4"
      },
      "execution_count": 4,
      "outputs": [
        {
          "output_type": "stream",
          "name": "stdout",
          "text": [
            "Original Orders DataFrame:\n",
            "     ord_no  purch_amt    ord_date  customer_id  salesman_id\n",
            "0   70001.0     150.50  2012-10-05         3002       5002.0\n",
            "1       NaN     270.65  2012-09-10         3001       5003.0\n",
            "2   70002.0      65.26         NaN         3001       5001.0\n",
            "3   70004.0     110.50  2012-08-17         3003          NaN\n",
            "4       NaN     948.50  2012-09-10         3002       5002.0\n",
            "5   70005.0    2400.60  2012-07-27         3001       5001.0\n",
            "6       NaN    5760.00  2012-09-10         3001       5001.0\n",
            "7   70010.0    1983.43  2012-10-10         3004          NaN\n",
            "8   70003.0    2480.40  2012-10-10         3003       5003.0\n",
            "9   70012.0     250.45  2012-06-27         3002       5002.0\n",
            "10      NaN      75.29  2012-08-17         3001       5003.0\n",
            "11  70013.0    3045.60  2012-04-25         3001          NaN\n",
            "\n",
            "Missing values of the said dataframe:\n",
            "    ord_no  purch_amt  ord_date  customer_id  salesman_id\n",
            "0    False      False     False        False        False\n",
            "1     True      False     False        False        False\n",
            "2    False      False      True        False        False\n",
            "3    False      False     False        False         True\n",
            "4     True      False     False        False        False\n",
            "5    False      False     False        False        False\n",
            "6     True      False     False        False        False\n",
            "7    False      False     False        False         True\n",
            "8    False      False     False        False        False\n",
            "9    False      False     False        False        False\n",
            "10    True      False     False        False        False\n",
            "11   False      False     False        False         True\n"
          ]
        }
      ]
    },
    {
      "cell_type": "markdown",
      "source": [
        "RESULT: Successfully implemented."
      ],
      "metadata": {
        "id": "T0rOesrxoovv"
      }
    },
    {
      "cell_type": "markdown",
      "source": [
        "# **14. Write a Pandas program to find and replace the missing values in a given DataFrame which do not have any valuable information**"
      ],
      "metadata": {
        "id": "70RqBGQWorFU"
      }
    },
    {
      "cell_type": "markdown",
      "source": [
        "AIM:to find and replace the missing values in a given DataFrame which do not have any valuable\n",
        "information     \n",
        "PROCEDURE:\n",
        "1. Import the necessary libraries, including `pandas` and `numpy`.\n",
        "2. Set Pandas options to display all rows in the DataFrame (`pd.set_option('display.max_rows', None)`).\n",
        "3. Create a Pandas DataFrame (`df`) with several columns ('ord_no', 'purch_amt', 'ord_date', 'customer_id', 'salesman_id'), where some missing values are represented as '?' and '--'.\n",
        "4. Print the original DataFrame to display its contents.\n",
        "5. Use the `replace()` method to replace the special characters ('?' and '--') with `np.nan` (representing missing values). This step helps to clean the data and standardize missing values.\n",
        "6. Print the resulting DataFrame (`result`) after replacing the special characters with NaN to display the cleaned data."
      ],
      "metadata": {
        "id": "9F91GMEEoym5"
      }
    },
    {
      "cell_type": "code",
      "source": [
        "import pandas as pd\n",
        "import numpy as np\n",
        "pd.set_option('display.max_rows', None)\n",
        "#pd.set_option('display.max_columns', None)\n",
        "df = pd.DataFrame({\n",
        "'ord_no':[70001,np.nan,70002,70004,np.nan,70005,\"--\",70010,70003,70012,np.nan,70013],\n",
        "'purch_amt':[150.5,270.65,65.26,110.5,948.5,2400.6,5760,\"?\",12.43,2480.4,250.45, 3045.6],\n",
        "'ord_date': ['?','2012-09-10',np.nan,'2012-08-17','2012-09-10','2012-07-27','2012-09-10','2012-10-10','2012-10-10','2012-06-27','2012-08-17','2012-04-25'],\n",
        "'customer_id':[3002,3001,3001,3003,3002,3001,3001,3004,\"--\",3002,3001,3001],\n",
        "'salesman_id':[5002,5003,\"?\",5001,np.nan,5002,5001,\"?\",5003,5002,5003,\"--\"]})\n",
        "print(\"Original Orders DataFrame:\")\n",
        "print(df)\n",
        "print(\"\\nReplace the missing values with NaN:\")\n",
        "result = df.replace({\"?\": np.nan, \"--\": np.nan})\n",
        "print(result)\n"
      ],
      "metadata": {
        "colab": {
          "base_uri": "https://localhost:8080/"
        },
        "id": "6Vhku3MspcvX",
        "outputId": "134e914a-976a-4e29-c8d1-db79192f54bf"
      },
      "execution_count": 5,
      "outputs": [
        {
          "output_type": "stream",
          "name": "stdout",
          "text": [
            "Original Orders DataFrame:\n",
            "   ord_no purch_amt    ord_date customer_id salesman_id\n",
            "0   70001     150.5           ?        3002        5002\n",
            "1     NaN    270.65  2012-09-10        3001        5003\n",
            "2   70002     65.26         NaN        3001           ?\n",
            "3   70004     110.5  2012-08-17        3003        5001\n",
            "4     NaN     948.5  2012-09-10        3002         NaN\n",
            "5   70005    2400.6  2012-07-27        3001        5002\n",
            "6      --      5760  2012-09-10        3001        5001\n",
            "7   70010         ?  2012-10-10        3004           ?\n",
            "8   70003     12.43  2012-10-10          --        5003\n",
            "9   70012    2480.4  2012-06-27        3002        5002\n",
            "10    NaN    250.45  2012-08-17        3001        5003\n",
            "11  70013    3045.6  2012-04-25        3001          --\n",
            "\n",
            "Replace the missing values with NaN:\n",
            "     ord_no  purch_amt    ord_date  customer_id  salesman_id\n",
            "0   70001.0     150.50         NaN       3002.0       5002.0\n",
            "1       NaN     270.65  2012-09-10       3001.0       5003.0\n",
            "2   70002.0      65.26         NaN       3001.0          NaN\n",
            "3   70004.0     110.50  2012-08-17       3003.0       5001.0\n",
            "4       NaN     948.50  2012-09-10       3002.0          NaN\n",
            "5   70005.0    2400.60  2012-07-27       3001.0       5002.0\n",
            "6       NaN    5760.00  2012-09-10       3001.0       5001.0\n",
            "7   70010.0        NaN  2012-10-10       3004.0          NaN\n",
            "8   70003.0      12.43  2012-10-10          NaN       5003.0\n",
            "9   70012.0    2480.40  2012-06-27       3002.0       5002.0\n",
            "10      NaN     250.45  2012-08-17       3001.0       5003.0\n",
            "11  70013.0    3045.60  2012-04-25       3001.0          NaN\n"
          ]
        }
      ]
    },
    {
      "cell_type": "markdown",
      "source": [
        "RESULT: Successfully implemented."
      ],
      "metadata": {
        "id": "q_IYmZlupAL6"
      }
    },
    {
      "cell_type": "markdown",
      "source": [
        "# **15.Write a Pandas program to keep the rows with at least 2 NaN values in a given DataFrame.**"
      ],
      "metadata": {
        "id": "1sZ2BNpnqMXC"
      }
    },
    {
      "cell_type": "markdown",
      "source": [
        "AIM:to keep the rows with at least 2 NaN values in a given DataFrame.\n",
        "\n",
        "PROCEDURE:\n",
        "1. Import the necessary libraries, including `pandas` and `numpy`.\n",
        "2. Create a Pandas DataFrame (`df`) with several columns ('ord_no', 'purch_amt', 'ord_date', 'customer_id') and some missing values represented as NaN.\n",
        "3. Use the `dropna(thresh=2)` method to filter the DataFrame. This method keeps rows that have at least 2 non-null (NaN) values.\n",
        "4. Print the resulting filtered DataFrame (`filtered_df`) to display the rows that meet the filtering criteria.\n"
      ],
      "metadata": {
        "id": "6bMN_GrjqSw0"
      }
    },
    {
      "cell_type": "code",
      "source": [
        "import pandas as pd\n",
        "import numpy as np\n",
        "df = pd.DataFrame({\n",
        "    'ord_no':[np.nan,np.nan,70002,np.nan,np.nan,70005,np.nan,70010,70003,70012,np.nan,np.nan],\n",
        "    'purch_amt':[np.nan,270.65,65.26,np.nan,948.5,2400.6,5760,1983.43,2480.4,250.45, 75.29,np.nan],\n",
        "    'ord_date': [np.nan,'2012-09-10',np.nan,np.nan,'2012-09-10','2012-07-27','2012-09-10','2012-10-10','2012-10-10','2012-06-27','2012-08-17',np.nan],\n",
        "    'customer_id':[np.nan,3001,3001,np.nan,3002,3001,3001,3004,3003,3002,3001,np.nan]\n",
        "})\n",
        "filtered_df = df.dropna(thresh=2)\n",
        "print(filtered_df)"
      ],
      "metadata": {
        "colab": {
          "base_uri": "https://localhost:8080/"
        },
        "id": "zh26yHT0qe0X",
        "outputId": "29028143-d6b9-4cf3-ad42-f11c1b22ce48"
      },
      "execution_count": 8,
      "outputs": [
        {
          "output_type": "stream",
          "name": "stdout",
          "text": [
            "     ord_no  purch_amt    ord_date  customer_id\n",
            "1       NaN     270.65  2012-09-10       3001.0\n",
            "2   70002.0      65.26         NaN       3001.0\n",
            "4       NaN     948.50  2012-09-10       3002.0\n",
            "5   70005.0    2400.60  2012-07-27       3001.0\n",
            "6       NaN    5760.00  2012-09-10       3001.0\n",
            "7   70010.0    1983.43  2012-10-10       3004.0\n",
            "8   70003.0    2480.40  2012-10-10       3003.0\n",
            "9   70012.0     250.45  2012-06-27       3002.0\n",
            "10      NaN      75.29  2012-08-17       3001.0\n"
          ]
        }
      ]
    },
    {
      "cell_type": "markdown",
      "source": [
        "RESULT: Successfully implemented."
      ],
      "metadata": {
        "id": "_RV7Wy-Fr5HQ"
      }
    },
    {
      "cell_type": "markdown",
      "source": [
        "# **16.Write a Pandas program to split the following dataframe into groups based on school code. Also check the type of GroupBy object.**"
      ],
      "metadata": {
        "id": "9oLXNjWxr6-q"
      }
    },
    {
      "cell_type": "markdown",
      "source": [
        "AIM:16. to split the following dataframe into groups based on school code.      \n",
        " PROCEDURE:\n",
        "1. Import the necessary library, `pandas`.\n",
        "2. Set Pandas options to display all rows in the DataFrame (`pd.set_option('display.max_rows', None)`).\n",
        "3. Create a Pandas DataFrame (`student_data`) containing student information, including columns like 'school_code,' 'class,' 'name,' 'date_of_birth,' 'age,' 'height,' 'weight,' and 'address.' Also, specify an index for the DataFrame.\n",
        "4. Print the original DataFrame to display its contents.\n",
        "5. Split the DataFrame into groups based on the 'school_code' column using the `groupby()` method. This creates a grouped object (`result`) with groups based on unique 'school_code' values.\n",
        "6. Iterate through the groups using a for loop. For each group, display the name of the group (the 'school_code') and the associated data for that group.\n",
        "7. Print the type of the `result` object, which should be of type `pandas.core.groupby.generic.DataFrameGroupBy`.\n"
      ],
      "metadata": {
        "id": "yJVTpY3YsEQq"
      }
    },
    {
      "cell_type": "code",
      "source": [
        "import pandas as pd\n",
        "pd.set_option('display.max_rows', None)\n",
        "#pd.set_option('display.max_columns', None)\n",
        "student_data = pd.DataFrame({\n",
        "    'school_code': ['s001','s002','s003','s001','s002','s004'],\n",
        "    'class': ['V', 'V', 'VI', 'VI', 'V', 'VI'],\n",
        "    'name': ['Alberto Franco','Gino Mcneill','Ryan Parkes', 'Eesha Hinton', 'Gino Mcneill', 'David Parkes'],\n",
        "    'date_Of_Birth ': ['15/05/2002','17/05/2002','16/02/1999','25/09/1998','11/05/2002','15/09/1997'],\n",
        "    'age': [12, 12, 13, 13, 14, 12],\n",
        "    'height': [173, 192, 186, 167, 151, 159],\n",
        "    'weight': [35, 32, 33, 30, 31, 32],\n",
        "    'address': ['street1', 'street2', 'street3', 'street1', 'street2', 'street4']},\n",
        "    index=['S1', 'S2', 'S3', 'S4', 'S5', 'S6'])\n",
        "\n",
        "print(\"Original DataFrame:\")\n",
        "print(student_data)\n",
        "print('\\nSplit the said data on school_code wise:')\n",
        "result = student_data.groupby(['school_code'])\n",
        "for name,group in result:\n",
        "    print(\"\\nGroup:\")\n",
        "    print(name)\n",
        "    print(group)\n",
        "print(\"\\nType of the object:\")\n",
        "print(type(result))"
      ],
      "metadata": {
        "colab": {
          "base_uri": "https://localhost:8080/"
        },
        "id": "9zaGIRYlsOjN",
        "outputId": "77339ff0-b01f-4745-a1d4-a3fac8984af0"
      },
      "execution_count": 9,
      "outputs": [
        {
          "output_type": "stream",
          "name": "stdout",
          "text": [
            "Original DataFrame:\n",
            "   school_code class            name date_Of_Birth   age  height  weight  \\\n",
            "S1        s001     V  Alberto Franco     15/05/2002   12     173      35   \n",
            "S2        s002     V    Gino Mcneill     17/05/2002   12     192      32   \n",
            "S3        s003    VI     Ryan Parkes     16/02/1999   13     186      33   \n",
            "S4        s001    VI    Eesha Hinton     25/09/1998   13     167      30   \n",
            "S5        s002     V    Gino Mcneill     11/05/2002   14     151      31   \n",
            "S6        s004    VI    David Parkes     15/09/1997   12     159      32   \n",
            "\n",
            "    address  \n",
            "S1  street1  \n",
            "S2  street2  \n",
            "S3  street3  \n",
            "S4  street1  \n",
            "S5  street2  \n",
            "S6  street4  \n",
            "\n",
            "Split the said data on school_code wise:\n",
            "\n",
            "Group:\n",
            "s001\n",
            "   school_code class            name date_Of_Birth   age  height  weight  \\\n",
            "S1        s001     V  Alberto Franco     15/05/2002   12     173      35   \n",
            "S4        s001    VI    Eesha Hinton     25/09/1998   13     167      30   \n",
            "\n",
            "    address  \n",
            "S1  street1  \n",
            "S4  street1  \n",
            "\n",
            "Group:\n",
            "s002\n",
            "   school_code class          name date_Of_Birth   age  height  weight  \\\n",
            "S2        s002     V  Gino Mcneill     17/05/2002   12     192      32   \n",
            "S5        s002     V  Gino Mcneill     11/05/2002   14     151      31   \n",
            "\n",
            "    address  \n",
            "S2  street2  \n",
            "S5  street2  \n",
            "\n",
            "Group:\n",
            "s003\n",
            "   school_code class         name date_Of_Birth   age  height  weight  address\n",
            "S3        s003    VI  Ryan Parkes     16/02/1999   13     186      33  street3\n",
            "\n",
            "Group:\n",
            "s004\n",
            "   school_code class          name date_Of_Birth   age  height  weight  \\\n",
            "S6        s004    VI  David Parkes     15/09/1997   12     159      32   \n",
            "\n",
            "    address  \n",
            "S6  street4  \n",
            "\n",
            "Type of the object:\n",
            "<class 'pandas.core.groupby.generic.DataFrameGroupBy'>\n"
          ]
        },
        {
          "output_type": "stream",
          "name": "stderr",
          "text": [
            "<ipython-input-9-45205576c1c9>:19: FutureWarning: In a future version of pandas, a length 1 tuple will be returned when iterating over a groupby with a grouper equal to a list of length 1. Don't supply a list with a single grouper to avoid this warning.\n",
            "  for name,group in result:\n"
          ]
        }
      ]
    },
    {
      "cell_type": "markdown",
      "source": [
        "RESULT: Successfully implemented."
      ],
      "metadata": {
        "id": "hw5me6R_suG4"
      }
    },
    {
      "cell_type": "markdown",
      "source": [
        "# **17.Write a Pandas program to split the following dataframe by school code and get mean, min, and max value of age for each school.**"
      ],
      "metadata": {
        "id": "UKrhnQt8sv2f"
      }
    },
    {
      "cell_type": "markdown",
      "source": [
        "AIM:to split the following dataframe by school code and get mean, min, and max value of age for each school.  \n",
        "PROCEDURE:\n",
        "1. Import the necessary library, `pandas`.\n",
        "2. Set Pandas options to display all rows in the DataFrame (`pd.set_option('display.max_rows', None)`).\n",
        "3. Create a Pandas DataFrame (`student_data`) containing student information, including columns like 'school_code,' 'class,' 'name,' 'date_of_birth,' 'age,' 'height,' 'weight,' and 'address.' Also, specify an index for the DataFrame.\n",
        "4. Print the original DataFrame to display its contents.\n",
        "5. Group the DataFrame by the 'school_code' column using the `groupby()` method. This creates a grouped object.\n",
        "6. Use the `agg()` method to calculate the mean, minimum, and maximum age for each school ('school_code'). The result is a new DataFrame (`grouped_single`) that shows these statistics.\n",
        "7. Print the DataFrame `grouped_single` to display the calculated statistics for each school."
      ],
      "metadata": {
        "id": "N-L984Ixs5kh"
      }
    },
    {
      "cell_type": "code",
      "source": [
        "import pandas as pd\n",
        "pd.set_option('display.max_rows', None)\n",
        "#pd.set_option('display.max_columns', None)\n",
        "student_data = pd.DataFrame({\n",
        "    'school_code': ['s001','s002','s003','s001','s002','s004'],\n",
        "    'class': ['V', 'V', 'VI', 'VI', 'V', 'VI'],\n",
        "    'name': ['Alberto Franco','Gino Mcneill','Ryan Parkes', 'Eesha Hinton', 'Gino Mcneill', 'David Parkes'],\n",
        "    'date_Of_Birth ': ['15/05/2002','17/05/2002','16/02/1999','25/09/1998','11/05/2002','15/09/1997'],\n",
        "    'age': [12, 12, 13, 13, 14, 12],\n",
        "    'height': [173, 192, 186, 167, 151, 159],\n",
        "    'weight': [35, 32, 33, 30, 31, 32],\n",
        "    'address': ['street1', 'street2', 'street3', 'street1', 'street2', 'street4']},\n",
        "    index=['S1', 'S2', 'S3', 'S4', 'S5', 'S6'])\n",
        "\n",
        "print(\"Original DataFrame:\")\n",
        "print(student_data)\n",
        "print('\\nMean, min, and max value of age for each value of the school:')\n",
        "grouped_single = student_data.groupby('school_code').agg({'age': ['mean', 'min', 'max']})\n",
        "print(grouped_single)"
      ],
      "metadata": {
        "colab": {
          "base_uri": "https://localhost:8080/"
        },
        "id": "XQVsE4sFtAVw",
        "outputId": "fc8879cb-1f91-4d4a-91a1-e9d6e10bd530"
      },
      "execution_count": 10,
      "outputs": [
        {
          "output_type": "stream",
          "name": "stdout",
          "text": [
            "Original DataFrame:\n",
            "   school_code class            name date_Of_Birth   age  height  weight  \\\n",
            "S1        s001     V  Alberto Franco     15/05/2002   12     173      35   \n",
            "S2        s002     V    Gino Mcneill     17/05/2002   12     192      32   \n",
            "S3        s003    VI     Ryan Parkes     16/02/1999   13     186      33   \n",
            "S4        s001    VI    Eesha Hinton     25/09/1998   13     167      30   \n",
            "S5        s002     V    Gino Mcneill     11/05/2002   14     151      31   \n",
            "S6        s004    VI    David Parkes     15/09/1997   12     159      32   \n",
            "\n",
            "    address  \n",
            "S1  street1  \n",
            "S2  street2  \n",
            "S3  street3  \n",
            "S4  street1  \n",
            "S5  street2  \n",
            "S6  street4  \n",
            "\n",
            "Mean, min, and max value of age for each value of the school:\n",
            "              age        \n",
            "             mean min max\n",
            "school_code              \n",
            "s001         12.5  12  13\n",
            "s002         13.0  12  14\n",
            "s003         13.0  13  13\n",
            "s004         12.0  12  12\n"
          ]
        }
      ]
    },
    {
      "cell_type": "markdown",
      "source": [
        "RESULT: Successfully implemented."
      ],
      "metadata": {
        "id": "LMxLv4qMteNg"
      }
    },
    {
      "cell_type": "markdown",
      "source": [
        "# **18.Write a Pandas program to split the following given dataframe into groups based on school code and class.**"
      ],
      "metadata": {
        "id": "D8fMbQDRtfxc"
      }
    },
    {
      "cell_type": "markdown",
      "source": [
        "AIM: to split the following given dataframe into groups based on school code and class.\n",
        "\n",
        "PROCEDURE:\n",
        "1. Import the necessary library, `pandas`.\n",
        "2. Set Pandas options to display all rows in the DataFrame (`pd.set_option('display.max_rows', None)`).\n",
        "3. Create a Pandas DataFrame (`student_data`) containing student information, including columns like 'school_code,' 'class,' 'name,' 'date_of_birth,' 'age,' 'height,' 'weight,' and 'address.' Also, specify an index for the DataFrame.\n",
        "4. Print the original DataFrame to display its contents.\n",
        "5. Split the DataFrame into groups based on the 'school_code' column using the `groupby()` method. This creates a grouped object (`result`) with groups based on unique 'school_code' values.\n",
        "6. Iterate through the groups using a for loop, displaying the name of each group (the 'school_code') and the associated data for that group.\n",
        "7. Print the type of the `result` object, which should be of type `pandas.core.groupby.generic.DataFrameGroupBy`.\n"
      ],
      "metadata": {
        "id": "c04nxfQutnH0"
      }
    },
    {
      "cell_type": "code",
      "source": [
        "import pandas as pd\n",
        "pd.set_option('display.max_rows', None)\n",
        "#pd.set_option('display.max_columns', None)\n",
        "student_data = pd.DataFrame({\n",
        "    'school_code': ['s001','s002','s003','s001','s002','s004'],\n",
        "    'class': ['V', 'V', 'VI', 'VI', 'V', 'VI'],\n",
        "    'name': ['Alberto Franco','Gino Mcneill','Ryan Parkes', 'Eesha Hinton', 'Gino Mcneill', 'David Parkes'],\n",
        "    'date_Of_Birth ': ['15/05/2002','17/05/2002','16/02/1999','25/09/1998','11/05/2002','15/09/1997'],\n",
        "    'age': [12, 12, 13, 13, 14, 12],\n",
        "    'height': [173, 192, 186, 167, 151, 159],\n",
        "    'weight': [35, 32, 33, 30, 31, 32],\n",
        "    'address': ['street1', 'street2', 'street3', 'street1', 'street2', 'street4']},\n",
        "    index=['S1', 'S2', 'S3', 'S4', 'S5', 'S6'])\n",
        "\n",
        "print(\"Original DataFrame:\")\n",
        "print(student_data)\n",
        "print('\\nSplit the said data on school_code wise:')\n",
        "result = student_data.groupby(['school_code'])\n",
        "for name,group in result:\n",
        "    print(\"\\nGroup:\")\n",
        "    print(name)\n",
        "    print(group)\n",
        "print(\"\\nType of the object:\")\n",
        "print(type(result))"
      ],
      "metadata": {
        "colab": {
          "base_uri": "https://localhost:8080/"
        },
        "id": "c5GWP35qtrQc",
        "outputId": "6ddd7b0c-6a78-4483-ddac-0719fcce5766"
      },
      "execution_count": 11,
      "outputs": [
        {
          "output_type": "stream",
          "name": "stdout",
          "text": [
            "Original DataFrame:\n",
            "   school_code class            name date_Of_Birth   age  height  weight  \\\n",
            "S1        s001     V  Alberto Franco     15/05/2002   12     173      35   \n",
            "S2        s002     V    Gino Mcneill     17/05/2002   12     192      32   \n",
            "S3        s003    VI     Ryan Parkes     16/02/1999   13     186      33   \n",
            "S4        s001    VI    Eesha Hinton     25/09/1998   13     167      30   \n",
            "S5        s002     V    Gino Mcneill     11/05/2002   14     151      31   \n",
            "S6        s004    VI    David Parkes     15/09/1997   12     159      32   \n",
            "\n",
            "    address  \n",
            "S1  street1  \n",
            "S2  street2  \n",
            "S3  street3  \n",
            "S4  street1  \n",
            "S5  street2  \n",
            "S6  street4  \n",
            "\n",
            "Split the said data on school_code wise:\n",
            "\n",
            "Group:\n",
            "s001\n",
            "   school_code class            name date_Of_Birth   age  height  weight  \\\n",
            "S1        s001     V  Alberto Franco     15/05/2002   12     173      35   \n",
            "S4        s001    VI    Eesha Hinton     25/09/1998   13     167      30   \n",
            "\n",
            "    address  \n",
            "S1  street1  \n",
            "S4  street1  \n",
            "\n",
            "Group:\n",
            "s002\n",
            "   school_code class          name date_Of_Birth   age  height  weight  \\\n",
            "S2        s002     V  Gino Mcneill     17/05/2002   12     192      32   \n",
            "S5        s002     V  Gino Mcneill     11/05/2002   14     151      31   \n",
            "\n",
            "    address  \n",
            "S2  street2  \n",
            "S5  street2  \n",
            "\n",
            "Group:\n",
            "s003\n",
            "   school_code class         name date_Of_Birth   age  height  weight  address\n",
            "S3        s003    VI  Ryan Parkes     16/02/1999   13     186      33  street3\n",
            "\n",
            "Group:\n",
            "s004\n",
            "   school_code class          name date_Of_Birth   age  height  weight  \\\n",
            "S6        s004    VI  David Parkes     15/09/1997   12     159      32   \n",
            "\n",
            "    address  \n",
            "S6  street4  \n",
            "\n",
            "Type of the object:\n",
            "<class 'pandas.core.groupby.generic.DataFrameGroupBy'>\n"
          ]
        },
        {
          "output_type": "stream",
          "name": "stderr",
          "text": [
            "<ipython-input-11-45205576c1c9>:19: FutureWarning: In a future version of pandas, a length 1 tuple will be returned when iterating over a groupby with a grouper equal to a list of length 1. Don't supply a list with a single grouper to avoid this warning.\n",
            "  for name,group in result:\n"
          ]
        }
      ]
    },
    {
      "cell_type": "markdown",
      "source": [
        "RESULT: Successfully implemented."
      ],
      "metadata": {
        "id": "-NIJatEkv6c_"
      }
    },
    {
      "cell_type": "markdown",
      "source": [
        "# **19.Write a Pandas program to display the dimensions or shape of the World alcohol consumption dataset. Also extract the column names from the dataset**"
      ],
      "metadata": {
        "id": "mupE2V54v8S6"
      }
    },
    {
      "cell_type": "markdown",
      "source": [
        "AIM:to display the dimensions or shape of the World alcohol consumption dataset.\n",
        "\n",
        "PROCEDURE:\n",
        "1. Import the necessary library, `pandas`.\n",
        "2. Create a dictionary (`data`) containing data for the DataFrame. The dictionary has keys representing column names and lists representing the data for each column.\n",
        "3. Use the `pd.DataFrame` constructor to create a DataFrame (`df`) from the provided data.\n",
        "4. Display the first few rows of the DataFrame using `df.head()` to get an initial view of the data.\n",
        "5. Print the shape of the DataFrame using `df.shape` to display the number of rows and columns.\n",
        "6. Extract the number of rows and columns from the shape of the DataFrame (`df.shape[0]` for rows and `df.shape[1]` for columns).\n",
        "7. Print the column names using `df.columns` to show the names of all the columns in the DataFrame."
      ],
      "metadata": {
        "id": "yZpC0JcxwD8Q"
      }
    },
    {
      "cell_type": "code",
      "source": [
        "import pandas as pd\n",
        "\n",
        "data = {\n",
        "    \"Year\": [1986, 1986, 1985, 1986, 1987],\n",
        "    \"WHO region\": [\"Western Pacific\", \"Americas\", \"Africa\", \"Americas\", \"Americas\"],\n",
        "    \"Country\": [\"Viet Nam\", \"Uruguay\", \"Cte d'Ivoire\", \"Colombia\", \"Saint Kitts and Nevis\"],\n",
        "    \"Beverage Types\": [\"Wine\", \"Other\", \"Wine\", \"Beer\", \"Beer\"],\n",
        "    \"Display Value\": [0.00, 0.50, 1.62, 4.27, 1.98]\n",
        "}\n",
        "\n",
        "df = pd.DataFrame(data)\n",
        "print(df.head())\n",
        "print('\\nShape of the dataframe: ',df.shape)\n",
        "print('\\nNumber of rows: ',df.shape[0])\n",
        "print('\\nNumber of column: ',df.shape[1])\n",
        "print(\"\\nExtract Column Names:\")\n",
        "print(df.columns)\n",
        "\n"
      ],
      "metadata": {
        "colab": {
          "base_uri": "https://localhost:8080/"
        },
        "id": "2bu48FWCwE4y",
        "outputId": "ec019111-4f75-4ace-cd07-0c66ee1a19b4"
      },
      "execution_count": 12,
      "outputs": [
        {
          "output_type": "stream",
          "name": "stdout",
          "text": [
            "   Year       WHO region                Country Beverage Types  Display Value\n",
            "0  1986  Western Pacific               Viet Nam           Wine           0.00\n",
            "1  1986         Americas                Uruguay          Other           0.50\n",
            "2  1985           Africa           Cte d'Ivoire           Wine           1.62\n",
            "3  1986         Americas               Colombia           Beer           4.27\n",
            "4  1987         Americas  Saint Kitts and Nevis           Beer           1.98\n",
            "\n",
            "Shape of the dataframe:  (5, 5)\n",
            "\n",
            "Number of rows:  5\n",
            "\n",
            "Number of column:  5\n",
            "\n",
            "Extract Column Names:\n",
            "Index(['Year', 'WHO region', 'Country', 'Beverage Types', 'Display Value'], dtype='object')\n"
          ]
        }
      ]
    },
    {
      "cell_type": "markdown",
      "source": [
        "RESULT: Successfully implemented."
      ],
      "metadata": {
        "id": "UDt6zgjzxQzU"
      }
    },
    {
      "cell_type": "markdown",
      "source": [
        "# **20.Write a Pandas program to find the index of a given substring of a DataFrame column.**"
      ],
      "metadata": {
        "id": "WxDsmVs7xUAJ"
      }
    },
    {
      "cell_type": "markdown",
      "source": [
        "AIM:o find the index of a given substring .\n",
        "\n",
        "PROCEDURE:\n",
        "1. Import the required libraries, including `pandas`.\n",
        "2. Create a Pandas DataFrame (`df`) with the given data, containing three columns: 'name_code', 'date_of_birth', and 'age'.\n",
        "3. Print the original DataFrame to display its contents.\n",
        "4. Create a new column called 'Index' in the DataFrame to store the indices of the character 'c' in the 'name_code' column.\n",
        "5. Use the `str.find()` method to find the index of the first occurrence of the character 'c' in each 'name_code' cell. The search is limited to the first 5 characters (0 to 5) of each cell.\n",
        "6. Print the modified DataFrame, which now includes the 'Index' column containing the found indices.\n"
      ],
      "metadata": {
        "id": "ngU3DtS6xbN8"
      }
    },
    {
      "cell_type": "code",
      "source": [
        "import pandas as pd\n",
        "df = pd.DataFrame({\n",
        "    'name_code': ['c0001','1000c','b00c2', 'b2c02', 'c2222'],\n",
        "    'date_of_birth ': ['12/05/2002','16/02/1999','25/09/1998','12/02/2022','15/09/1997'],\n",
        "    'age': [18.5, 21.2, 22.5, 22, 23]\n",
        "})\n",
        "print(\"Original DataFrame:\")\n",
        "print(df)\n",
        "print(\"\\nIndex of a substring in a specified column of a dataframe:\")\n",
        "df['Index'] = df['name_code'].str.find('c', 0, 5)\n",
        "print(df)"
      ],
      "metadata": {
        "colab": {
          "base_uri": "https://localhost:8080/"
        },
        "id": "PqcL-scAxhPx",
        "outputId": "0b3ba1a2-f6f7-44c9-fad1-47a208e4d1d3"
      },
      "execution_count": 15,
      "outputs": [
        {
          "output_type": "stream",
          "name": "stdout",
          "text": [
            "Original DataFrame:\n",
            "  name_code date_of_birth    age\n",
            "0     c0001     12/05/2002  18.5\n",
            "1     1000c     16/02/1999  21.2\n",
            "2     b00c2     25/09/1998  22.5\n",
            "3     b2c02     12/02/2022  22.0\n",
            "4     c2222     15/09/1997  23.0\n",
            "\n",
            "Index of a substring in a specified column of a dataframe:\n",
            "  name_code date_of_birth    age  Index\n",
            "0     c0001     12/05/2002  18.5      0\n",
            "1     1000c     16/02/1999  21.2      4\n",
            "2     b00c2     25/09/1998  22.5      3\n",
            "3     b2c02     12/02/2022  22.0      2\n",
            "4     c2222     15/09/1997  23.0      0\n"
          ]
        }
      ]
    },
    {
      "cell_type": "markdown",
      "source": [
        "RESULT: Successfully implemented."
      ],
      "metadata": {
        "id": "lItDoyZoyDFN"
      }
    }
  ]
}